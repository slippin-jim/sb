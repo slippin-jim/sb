{
 "cells": [
  {
   "cell_type": "code",
   "execution_count": 14,
   "metadata": {},
   "outputs": [],
   "source": [
    "from baseball_reference1 import TeamScraper"
   ]
  },
  {
   "cell_type": "code",
   "execution_count": 15,
   "metadata": {},
   "outputs": [
    {
     "ename": "TypeError",
     "evalue": "drop() takes from 1 to 2 positional arguments but 3 were given",
     "output_type": "error",
     "traceback": [
      "\u001b[0;31m---------------------------------------------------------------------------\u001b[0m",
      "\u001b[0;31mTypeError\u001b[0m                                 Traceback (most recent call last)",
      "\u001b[1;32m/Users/jim/dev/sb/baseball_scraper-master/baseball_scraper/test.ipynb Cell 2\u001b[0m line \u001b[0;36m3\n\u001b[1;32m      <a href='vscode-notebook-cell:/Users/jim/dev/sb/baseball_scraper-master/baseball_scraper/test.ipynb#W1sZmlsZQ%3D%3D?line=0'>1</a>\u001b[0m s\u001b[39m=\u001b[39m TeamScraper()\n\u001b[1;32m      <a href='vscode-notebook-cell:/Users/jim/dev/sb/baseball_scraper-master/baseball_scraper/test.ipynb#W1sZmlsZQ%3D%3D?line=1'>2</a>\u001b[0m s\u001b[39m.\u001b[39mset_season(\u001b[39m1927\u001b[39m)\n\u001b[0;32m----> <a href='vscode-notebook-cell:/Users/jim/dev/sb/baseball_scraper-master/baseball_scraper/test.ipynb#W1sZmlsZQ%3D%3D?line=2'>3</a>\u001b[0m data \u001b[39m=\u001b[39m s\u001b[39m.\u001b[39;49mscrape(\u001b[39m'\u001b[39;49m\u001b[39mNYY\u001b[39;49m\u001b[39m'\u001b[39;49m)\n\u001b[1;32m      <a href='vscode-notebook-cell:/Users/jim/dev/sb/baseball_scraper-master/baseball_scraper/test.ipynb#W1sZmlsZQ%3D%3D?line=3'>4</a>\u001b[0m data\u001b[39m.\u001b[39mhead()\n",
      "File \u001b[0;32m~/dev/sb/baseball_scraper-master/baseball_scraper/baseball_reference1.py:58\u001b[0m, in \u001b[0;36mTeamScraper.scrape\u001b[0;34m(self, team)\u001b[0m\n\u001b[1;32m     56\u001b[0m \u001b[39mself\u001b[39m\u001b[39m.\u001b[39m_validate_date_range(\u001b[39mself\u001b[39m\u001b[39m.\u001b[39mstart_date, \u001b[39mself\u001b[39m\u001b[39m.\u001b[39mend_date)\n\u001b[1;32m     57\u001b[0m \u001b[39mself\u001b[39m\u001b[39m.\u001b[39m_validate_team()\n\u001b[0;32m---> 58\u001b[0m \u001b[39mself\u001b[39;49m\u001b[39m.\u001b[39;49m_cache_source()\n\u001b[1;32m     59\u001b[0m df \u001b[39m=\u001b[39m \u001b[39mself\u001b[39m\u001b[39m.\u001b[39mseason_cache[\u001b[39mself\u001b[39m\u001b[39m.\u001b[39mteam][\u001b[39mself\u001b[39m\u001b[39m.\u001b[39mstart_date\u001b[39m.\u001b[39myear]\n\u001b[1;32m     60\u001b[0m \u001b[39mreturn\u001b[39;00m \u001b[39mself\u001b[39m\u001b[39m.\u001b[39m_apply_filters(df)\n",
      "File \u001b[0;32m~/dev/sb/baseball_scraper-master/baseball_scraper/baseball_reference1.py:105\u001b[0m, in \u001b[0;36mTeamScraper._cache_source\u001b[0;34m(self)\u001b[0m\n\u001b[1;32m    103\u001b[0m \u001b[39mif\u001b[39;00m \u001b[39mself\u001b[39m\u001b[39m.\u001b[39mteam \u001b[39mnot\u001b[39;00m \u001b[39min\u001b[39;00m \u001b[39mself\u001b[39m\u001b[39m.\u001b[39mseason_cache:\n\u001b[1;32m    104\u001b[0m     \u001b[39mself\u001b[39m\u001b[39m.\u001b[39mseason_cache[\u001b[39mself\u001b[39m\u001b[39m.\u001b[39mteam] \u001b[39m=\u001b[39m {}\n\u001b[0;32m--> 105\u001b[0m \u001b[39mself\u001b[39m\u001b[39m.\u001b[39mseason_cache[\u001b[39mself\u001b[39m\u001b[39m.\u001b[39mteam][yr] \u001b[39m=\u001b[39m \u001b[39mself\u001b[39;49m\u001b[39m.\u001b[39;49m_parse_raw(soup)\n",
      "File \u001b[0;32m~/dev/sb/baseball_scraper-master/baseball_scraper/baseball_reference1.py:137\u001b[0m, in \u001b[0;36mTeamScraper._parse_raw\u001b[0;34m(self, soup)\u001b[0m\n\u001b[1;32m    135\u001b[0m data \u001b[39m=\u001b[39m data\u001b[39m.\u001b[39mreindex(data\u001b[39m.\u001b[39mindex\u001b[39m.\u001b[39mdrop(\u001b[39m0\u001b[39m))\n\u001b[1;32m    136\u001b[0m \u001b[39m# data = data.drop('', 1)  # not a useful column\u001b[39;00m\n\u001b[0;32m--> 137\u001b[0m data \u001b[39m=\u001b[39m \u001b[39mself\u001b[39;49m\u001b[39m.\u001b[39;49m_process_win_streak(data)\n\u001b[1;32m    138\u001b[0m data \u001b[39m=\u001b[39m \u001b[39mself\u001b[39m\u001b[39m.\u001b[39m_make_numeric(data)\n\u001b[1;32m    139\u001b[0m data \u001b[39m=\u001b[39m \u001b[39mself\u001b[39m\u001b[39m.\u001b[39m_process_date(data)\n",
      "File \u001b[0;32m~/dev/sb/baseball_scraper-master/baseball_scraper/baseball_reference1.py:221\u001b[0m, in \u001b[0;36mTeamScraper._process_win_streak\u001b[0;34m(self, data)\u001b[0m\n\u001b[1;32m    218\u001b[0m     data\u001b[39m.\u001b[39mloc[data[\u001b[39m'\u001b[39m\u001b[39mStreak\u001b[39m\u001b[39m'\u001b[39m]\u001b[39m.\u001b[39mstr[\u001b[39m0\u001b[39m] \u001b[39m==\u001b[39m \u001b[39m'\u001b[39m\u001b[39m-\u001b[39m\u001b[39m'\u001b[39m, \u001b[39m'\u001b[39m\u001b[39mStreak2\u001b[39m\u001b[39m'\u001b[39m] \u001b[39m=\u001b[39m \\\n\u001b[1;32m    219\u001b[0m         \u001b[39m-\u001b[39mdata[\u001b[39m'\u001b[39m\u001b[39mStreak2\u001b[39m\u001b[39m'\u001b[39m]\n\u001b[1;32m    220\u001b[0m     data[\u001b[39m'\u001b[39m\u001b[39mStreak\u001b[39m\u001b[39m'\u001b[39m] \u001b[39m=\u001b[39m data[\u001b[39m'\u001b[39m\u001b[39mStreak2\u001b[39m\u001b[39m'\u001b[39m]\n\u001b[0;32m--> 221\u001b[0m     data \u001b[39m=\u001b[39m data\u001b[39m.\u001b[39;49mdrop(\u001b[39m'\u001b[39;49m\u001b[39mStreak2\u001b[39;49m\u001b[39m'\u001b[39;49m, \u001b[39m1\u001b[39;49m)\n\u001b[1;32m    222\u001b[0m \u001b[39mreturn\u001b[39;00m data\n",
      "\u001b[0;31mTypeError\u001b[0m: drop() takes from 1 to 2 positional arguments but 3 were given"
     ]
    }
   ],
   "source": [
    "s= TeamScraper()\n",
    "s.set_season(1927)\n",
    "data = s.scrape('NYY')\n",
    "data.head()"
   ]
  },
  {
   "cell_type": "code",
   "execution_count": null,
   "metadata": {},
   "outputs": [],
   "source": []
  }
 ],
 "metadata": {
  "kernelspec": {
   "display_name": "sb",
   "language": "python",
   "name": "sb"
  },
  "language_info": {
   "codemirror_mode": {
    "name": "ipython",
    "version": 3
   },
   "file_extension": ".py",
   "mimetype": "text/x-python",
   "name": "python",
   "nbconvert_exporter": "python",
   "pygments_lexer": "ipython3",
   "version": "3.9.18"
  }
 },
 "nbformat": 4,
 "nbformat_minor": 2
}
