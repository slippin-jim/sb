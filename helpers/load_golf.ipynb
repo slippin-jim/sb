{
 "cells": [
  {
   "cell_type": "code",
   "execution_count": 51,
   "metadata": {},
   "outputs": [],
   "source": [
    "import numpy as np\n",
    "import pandas as pd\n",
    "import requests\n",
    "import json\n",
    "from bs4 import BeautifulSoup\n",
    "import datetime as dt\n",
    "import pprint"
   ]
  },
  {
   "cell_type": "code",
   "execution_count": 52,
   "metadata": {},
   "outputs": [],
   "source": [
    "api_key = '41dfefa12c616d5edf8dcd339324'\n",
    "event_url = 'https://feeds.datagolf.com/historical-raw-data/event-list?file_format={file_format}&key={api_key}'\n",
    "event_detail_url = 'https://feeds.datagolf.com/historical-raw-data/rounds?tour={tour}&event_id={event_id}&year={year}&file_format={file_format}&key={api_key}'\n",
    "file_format = 'json'"
   ]
  },
  {
   "cell_type": "code",
   "execution_count": 53,
   "metadata": {},
   "outputs": [
    {
     "data": {
      "text/plain": [
       "12502"
      ]
     },
     "execution_count": 53,
     "metadata": {},
     "output_type": "execute_result"
    }
   ],
   "source": [
    "events_request = requests.get(event_url.format(file_format=file_format,api_key=api_key))\n",
    "events_json = events_request.json()\n",
    "events = pd.DataFrame(events_json)\n",
    "events.size"
   ]
  },
  {
   "cell_type": "code",
   "execution_count": 54,
   "metadata": {},
   "outputs": [],
   "source": [
    "event_details = []\n",
    "pga_events = events.loc[events.tour == 'pga']\n",
    "for event in pga_events.iterrows():\n",
    "    row_data = event[1] # 1st val in tuple is index\n",
    "    # index 0 = calendar year; 1 = date; 2 = event_id, 3 = event_name, 4 = sg_categoeries, 5 = tour, 6 = traditional stats \n",
    "    # update 11/28: parse series by column name not index\n",
    "    _event_id = row_data['event_id'] \n",
    "    _year = row_data['calendar_year']\n",
    "    _event_detail_url = event_detail_url.format(tour = 'pga', event_id = _event_id, year = _year, file_format=file_format, api_key=api_key)\n",
    "    _event_detail = requests.get(_event_detail_url).json()\n",
    "    event_details.append(_event_detail)"
   ]
  },
  {
   "cell_type": "code",
   "execution_count": 55,
   "metadata": {},
   "outputs": [],
   "source": [
    "entries = []\n",
    "for _event in event_details:\n",
    "    _event_metadata = {key:_event[key] for key in _event.keys() if key != 'scores'}\n",
    "    for _player in _event['scores']:\n",
    "        _rounds_played = [x for x in _player.keys() if x[0:5] == 'round']\n",
    "        _id = {key:_player[key] for key in _player.keys() if key not in _rounds_played}\n",
    "        for n in _rounds_played:\n",
    "            _round_data = _player[n]\n",
    "            entry = {**_event_metadata,**_id,'round':n[-1],**_round_data}\n",
    "            entries.append(entry)"
   ]
  },
  {
   "cell_type": "code",
   "execution_count": 63,
   "metadata": {},
   "outputs": [],
   "source": [
    "data = pd.DataFrame(entries)\n",
    "# data.to_csv('~/dev/sb/data/pga_stats.csv')\n",
    "data"
   ]
  }
 ],
 "metadata": {
  "kernelspec": {
   "display_name": "sb",
   "language": "python",
   "name": "sb"
  },
  "language_info": {
   "codemirror_mode": {
    "name": "ipython",
    "version": 3
   },
   "file_extension": ".py",
   "mimetype": "text/x-python",
   "name": "python",
   "nbconvert_exporter": "python",
   "pygments_lexer": "ipython3",
   "version": "3.9.18"
  }
 },
 "nbformat": 4,
 "nbformat_minor": 2
}
