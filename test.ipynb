{
 "cells": [
  {
   "cell_type": "code",
   "execution_count": 54,
   "metadata": {},
   "outputs": [],
   "source": [
    "import pandas as pd\n",
    "import numpy as np\n",
    "from scipy import stats as sci\n",
    "import random as rand\n",
    "import os\n",
    "import re\n",
    "import requests\n",
    "from bs4 import BeautifulSoup\n"
   ]
  },
  {
   "cell_type": "code",
   "execution_count": 45,
   "metadata": {},
   "outputs": [],
   "source": [
    "teams = {}\n",
    "historicals = os.path.join(os.curdir,'stats/')\n",
    "for x in os.listdir(historicals):\n",
    "    name = x[:3]\n",
    "    teams[name] = pd.read_csv(os.path.join(historicals,x))\n",
    "\n",
    "# teams['nyy'] = pd.read_csv('~/dev/sb/stats/nyy_2022.csv')\n",
    "# teams['bos'] = pd.read_csv('~/dev/sb/stats/bos_2022.csv')"
   ]
  },
  {
   "cell_type": "code",
   "execution_count": 46,
   "metadata": {},
   "outputs": [],
   "source": [
    "stats = {}\n",
    "for team in teams.keys():\n",
    "    stats[team] = {}\n",
    "    stats[team]['avg_runs'] = np.average(teams[team]['R'])\n",
    "    stats[team]['avg_runs_allowed'] = np.average(teams[team]['RA'])\n",
    "    stats[team]['stdev_runs'] = np.std(teams[team]['R'])"
   ]
  },
  {
   "cell_type": "code",
   "execution_count": 47,
   "metadata": {},
   "outputs": [],
   "source": [
    "odds = {}\n",
    "#calculate odds against every team, cartesian product against \"team\"\n",
    "for team in teams.keys():\n",
    "    odds[team] = {} # each opponent has their own entry\n",
    "    for opponent in [x for x in teams.keys() if x != team]: # exclude current team\n",
    "        odds[team][opponent] = {} # each team x opponent matchup has their own set of odds\n",
    "        odds[team][opponent]['adj_runs'] = np.sqrt(stats[team]['avg_runs']*stats[opponent]['avg_runs_allowed'])"
   ]
  },
  {
   "cell_type": "code",
   "execution_count": 48,
   "metadata": {},
   "outputs": [],
   "source": [
    "#create simulation\n",
    "n = 100000 # number of iterations\n",
    "for team in teams.keys():\n",
    "    for opponent in [x for x in teams.keys() if x != team]: # exclude current team\n",
    "        results = []\n",
    "        for i in range(n):\n",
    "            results.append(sci.norm.ppf(rand.random(), loc=odds[team][opponent]['adj_runs'], scale=stats[team]['stdev_runs'])) #loc and scale are mean and stdev, respectively\n",
    "        odds[team][opponent]['predicted_runs'] = sum(results)/len(results)"
   ]
  },
  {
   "cell_type": "code",
   "execution_count": 44,
   "metadata": {},
   "outputs": [
    {
     "data": {
      "text/plain": [
       "{'nyy_2022.csv': {'bos_2022.csv': {'adj_runs': 4.919365816503159,\n",
       "   'predicted_runs': 4.918742002284137},\n",
       "  'tor_2022.csv': {'adj_runs': 4.5693733030098125,\n",
       "   'predicted_runs': 4.575581666294908}},\n",
       " 'bos_2022.csv': {'nyy_2022.csv': {'adj_runs': 3.9849252978731773,\n",
       "   'predicted_runs': 3.989453102669121},\n",
       "  'tor_2022.csv': {'adj_runs': 4.3607736232814345,\n",
       "   'predicted_runs': 4.363067260679895}},\n",
       " 'tor_2022.csv': {'nyy_2022.csv': {'adj_runs': 4.091922184071176,\n",
       "   'predicted_runs': 4.086986237425229},\n",
       "  'bos_2022.csv': {'adj_runs': 4.8208453844738575,\n",
       "   'predicted_runs': 4.816842995249697}}}"
      ]
     },
     "execution_count": 44,
     "metadata": {},
     "output_type": "execute_result"
    }
   ],
   "source": [
    "odds"
   ]
  },
  {
   "cell_type": "code",
   "execution_count": 53,
   "metadata": {},
   "outputs": [
    {
     "name": "stdout",
     "output_type": "stream",
     "text": [
      "nyy vs bos yields average runs 4.92 and 4.01 runs allowed for a differential of 0.92 \n",
      "nyy vs tor yields average runs 4.58 and 4.08 runs allowed for a differential of 0.50 \n",
      "bos vs nyy yields average runs 4.01 and 4.92 runs allowed for a differential of -0.92 \n",
      "bos vs tor yields average runs 4.36 and 4.83 runs allowed for a differential of -0.47 \n",
      "tor vs nyy yields average runs 4.08 and 4.58 runs allowed for a differential of -0.50 \n",
      "tor vs bos yields average runs 4.83 and 4.36 runs allowed for a differential of 0.47 \n"
     ]
    }
   ],
   "source": [
    "for team in odds.keys():\n",
    "    for opp in odds[team].keys():\n",
    "        print(f\"\"\"{team} vs {opp} yields average runs {odds[team][opp]['predicted_runs']:,.2f}\\\n",
    " and {odds[opp][team]['predicted_runs']:,.2f} runs allowed for a differential of\\\n",
    " {odds[team][opp]['predicted_runs'] - odds[opp][team]['predicted_runs']:,.2f} \"\"\")\n"
   ]
  },
  {
   "cell_type": "code",
   "execution_count": null,
   "metadata": {},
   "outputs": [],
   "source": []
  }
 ],
 "metadata": {
  "kernelspec": {
   "display_name": "sb",
   "language": "python",
   "name": "sb"
  },
  "language_info": {
   "codemirror_mode": {
    "name": "ipython",
    "version": 3
   },
   "file_extension": ".py",
   "mimetype": "text/x-python",
   "name": "python",
   "nbconvert_exporter": "python",
   "pygments_lexer": "ipython3",
   "version": "3.11.3"
  }
 },
 "nbformat": 4,
 "nbformat_minor": 2
}
