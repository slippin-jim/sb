{
 "cells": [
  {
   "cell_type": "code",
   "execution_count": 5,
   "metadata": {},
   "outputs": [],
   "source": [
    "import pandas as pd\n",
    "import numpy as np\n",
    "from scipy import stats as sci\n",
    "from helpers import get_teams\n",
    "import os\n",
    "import pprint \n",
    "from datetime import datetime as dt"
   ]
  },
  {
   "cell_type": "code",
   "execution_count": 15,
   "metadata": {},
   "outputs": [
    {
     "data": {
      "text/plain": [
       "'2023-11-27'"
      ]
     },
     "execution_count": 15,
     "metadata": {},
     "output_type": "execute_result"
    }
   ],
   "source": [
    "dt.now().strftime('%Y-%m-%d')"
   ]
  },
  {
   "cell_type": "code",
   "execution_count": null,
   "metadata": {},
   "outputs": [],
   "source": []
  },
  {
   "cell_type": "code",
   "execution_count": null,
   "metadata": {},
   "outputs": [],
   "source": []
  },
  {
   "cell_type": "code",
   "execution_count": 2,
   "metadata": {},
   "outputs": [
    {
     "ename": "TypeError",
     "evalue": "'str' object is not callable",
     "output_type": "error",
     "traceback": [
      "\u001b[0;31m---------------------------------------------------------------------------\u001b[0m",
      "\u001b[0;31mTypeError\u001b[0m                                 Traceback (most recent call last)",
      "\u001b[1;32m/Users/jim/dev/sb/create_sim.ipynb Cell 2\u001b[0m line \u001b[0;36m3\n\u001b[1;32m      <a href='vscode-notebook-cell:/Users/jim/dev/sb/create_sim.ipynb#W1sZmlsZQ%3D%3D?line=0'>1</a>\u001b[0m year \u001b[39m=\u001b[39m \u001b[39m'\u001b[39m\u001b[39m2023\u001b[39m\u001b[39m'\u001b[39m\n\u001b[1;32m      <a href='vscode-notebook-cell:/Users/jim/dev/sb/create_sim.ipynb#W1sZmlsZQ%3D%3D?line=1'>2</a>\u001b[0m league \u001b[39m=\u001b[39m \u001b[39m'\u001b[39m\u001b[39mmlb\u001b[39m\u001b[39m'\u001b[39m\n\u001b[0;32m----> <a href='vscode-notebook-cell:/Users/jim/dev/sb/create_sim.ipynb#W1sZmlsZQ%3D%3D?line=2'>3</a>\u001b[0m teams \u001b[39m=\u001b[39m get_teams\u001b[39m.\u001b[39;49mget_team_names(league)\n\u001b[1;32m      <a href='vscode-notebook-cell:/Users/jim/dev/sb/create_sim.ipynb#W1sZmlsZQ%3D%3D?line=3'>4</a>\u001b[0m historicals_path \u001b[39m=\u001b[39m os\u001b[39m.\u001b[39mpath\u001b[39m.\u001b[39mjoin(os\u001b[39m.\u001b[39mcurdir,\u001b[39m'\u001b[39m\u001b[39mdata\u001b[39m\u001b[39m'\u001b[39m)\n\u001b[1;32m      <a href='vscode-notebook-cell:/Users/jim/dev/sb/create_sim.ipynb#W1sZmlsZQ%3D%3D?line=4'>5</a>\u001b[0m team_results \u001b[39m=\u001b[39m pd\u001b[39m.\u001b[39mread_csv(\u001b[39mf\u001b[39m\u001b[39m'\u001b[39m\u001b[39m{\u001b[39;00mhistoricals_path\u001b[39m}\u001b[39;00m\u001b[39m/\u001b[39m\u001b[39m{\u001b[39;00myear\u001b[39m}\u001b[39;00m\u001b[39m_\u001b[39m\u001b[39m{\u001b[39;00mleague\u001b[39m}\u001b[39;00m\u001b[39m_results.csv\u001b[39m\u001b[39m'\u001b[39m)\n",
      "File \u001b[0;32m~/dev/sb/helpers/get_teams.py:5\u001b[0m, in \u001b[0;36mget_team_names\u001b[0;34m(sport)\u001b[0m\n\u001b[1;32m      4\u001b[0m \u001b[39mdef\u001b[39;00m \u001b[39mget_team_names\u001b[39m(sport:\u001b[39mstr\u001b[39m):\n\u001b[0;32m----> 5\u001b[0m     path \u001b[39m=\u001b[39m os\u001b[39m.\u001b[39mpath\u001b[39m.\u001b[39mjoin(os\u001b[39m.\u001b[39;49mpath\u001b[39m.\u001b[39;49mpardir(os\u001b[39m.\u001b[39;49mpath\u001b[39m.\u001b[39;49mabspath(\u001b[39m__file__\u001b[39;49m)),\u001b[39m'\u001b[39m\u001b[39mstatic\u001b[39m\u001b[39m'\u001b[39m,sport\u001b[39m.\u001b[39mlower())\n\u001b[1;32m      6\u001b[0m     df \u001b[39m=\u001b[39m pd\u001b[39m.\u001b[39mread_csv(\u001b[39mf\u001b[39m\u001b[39m'\u001b[39m\u001b[39m{\u001b[39;00mpath\u001b[39m}\u001b[39;00m\u001b[39m_teams.csv\u001b[39m\u001b[39m'\u001b[39m)\n\u001b[1;32m      7\u001b[0m     \u001b[39mreturn\u001b[39;00m df\u001b[39m.\u001b[39mteam_id\u001b[39m.\u001b[39mto_list()\n",
      "\u001b[0;31mTypeError\u001b[0m: 'str' object is not callable"
     ]
    }
   ],
   "source": [
    "year = '2023'\n",
    "league = 'mlb'\n",
    "teams = get_teams.get_team_names(league)\n",
    "historicals_path = os.path.join(os.curdir,'data')\n",
    "team_results = pd.read_csv(f'{historicals_path}/{year}_{league}_results.csv')\n",
    "teams = team_results.Tm.unique()"
   ]
  },
  {
   "cell_type": "code",
   "execution_count": null,
   "metadata": {},
   "outputs": [],
   "source": [
    "teams_df = team_results.groupby('Tm')[['R','RA']].agg(avg_runs=('R','mean'),avg_runs_allowed=('RA','mean'),stdev_runs=('R','std'))\n",
    "teams_df.reset_index(inplace=True)\n",
    "teams_ct = teams_df.merge(teams_df,how='cross',suffixes=('_tm','_opp'))\n",
    "teams_ct.rename(columns={'Tm_tm':'Tm','Tm_opp':'Opp'},inplace=True)\n",
    "teams_gp = teams_ct.groupby(['Tm','Opp']).max()\n",
    "teams_gp.reset_index(inplace=True)\n",
    "teams_gp['adj_runs_tm'] = np.sqrt(teams_gp.avg_runs_tm*teams_gp.avg_runs_allowed_opp)\n",
    "# display(teams_gp)"
   ]
  },
  {
   "cell_type": "code",
   "execution_count": 4,
   "metadata": {},
   "outputs": [
    {
     "ename": "NameError",
     "evalue": "name 'teams_gp' is not defined",
     "output_type": "error",
     "traceback": [
      "\u001b[0;31m---------------------------------------------------------------------------\u001b[0m",
      "\u001b[0;31mNameError\u001b[0m                                 Traceback (most recent call last)",
      "\u001b[1;32m/Users/jim/dev/sb/create_sim.ipynb Cell 4\u001b[0m line \u001b[0;36m1\n\u001b[1;32m      <a href='vscode-notebook-cell:/Users/jim/dev/sb/create_sim.ipynb#W3sZmlsZQ%3D%3D?line=8'>9</a>\u001b[0m     \u001b[39m# results = [rand_results(x,avg_runs,stdev_runs) for x in empty_arr]\u001b[39;00m\n\u001b[1;32m     <a href='vscode-notebook-cell:/Users/jim/dev/sb/create_sim.ipynb#W3sZmlsZQ%3D%3D?line=9'>10</a>\u001b[0m     \u001b[39mreturn\u001b[39;00m results\n\u001b[0;32m---> <a href='vscode-notebook-cell:/Users/jim/dev/sb/create_sim.ipynb#W3sZmlsZQ%3D%3D?line=11'>12</a>\u001b[0m teams_gp[\u001b[39m'\u001b[39m\u001b[39msim_results\u001b[39m\u001b[39m'\u001b[39m] \u001b[39m=\u001b[39m teams_gp\u001b[39m.\u001b[39mapply(\u001b[39mlambda\u001b[39;00m x: sim_results(avg_runs\u001b[39m=\u001b[39mx\u001b[39m.\u001b[39mavg_runs_tm,stdev_runs\u001b[39m=\u001b[39mx\u001b[39m.\u001b[39mstdev_runs_tm),axis\u001b[39m=\u001b[39m\u001b[39m1\u001b[39m)\n",
      "\u001b[0;31mNameError\u001b[0m: name 'teams_gp' is not defined"
     ]
    }
   ],
   "source": [
    "def rand_results(rand=None,avg_runs=None,stdev_runs=None):\n",
    "    return max(round(sci.norm.ppf(rand, loc=avg_runs, scale=stdev_runs),2),0)\n",
    "\n",
    "def sim_results(n=10000,avg_runs=None,stdev_runs=None):\n",
    "    empty_arr = np.random.random(size=n).tolist()\n",
    "    # empty_arr = np.random.random(size=n)\n",
    "    rand_ = np.vectorize(rand_results)\n",
    "    results = rand_(empty_arr,avg_runs,stdev_runs)\n",
    "    # results = [rand_results(x,avg_runs,stdev_runs) for x in empty_arr]\n",
    "    return results\n",
    "\n",
    "teams_gp['sim_results'] = teams_gp.apply(lambda x: sim_results(avg_runs=x.avg_runs_tm,stdev_runs=x.stdev_runs_tm),axis=1)\n"
   ]
  },
  {
   "cell_type": "code",
   "execution_count": 319,
   "metadata": {},
   "outputs": [],
   "source": [
    "def opposing_runs(team,opp):\n",
    "    # print(team,opp)\n",
    "    team_runs = teams_gp[(teams_gp.Tm == team) & (teams_gp.Opp == opp)]['sim_results'].values \n",
    "    opp_runs = teams_gp[(teams_gp.Tm == opp) & (teams_gp.Opp == team)]['sim_results'].values\n",
    "    # print(type(opp_runs))\n",
    "    # print(team_runs)\n",
    "    output = np.subtract(team_runs,opp_runs).ravel()\n",
    "    # print(output)\n",
    "    return output\n",
    "\n",
    "teams_gp['sim_differential'] = teams_gp.apply(lambda x: opposing_runs(x.Tm, x.Opp), axis=1)\n"
   ]
  },
  {
   "cell_type": "code",
   "execution_count": 320,
   "metadata": {},
   "outputs": [],
   "source": [
    "def unravel(layer1):\n",
    "    for a1 in layer1:\n",
    "        return a1\n",
    "            # print(type(a2))\n",
    "            # return a2\n",
    "\n",
    "def win_loss(arr):\n",
    "    return np.where(arr>0,1,0)\n",
    "\n",
    "def win_loss_ratio(arr):\n",
    "    return np.sum(arr) / arr.shape[0]\n",
    "\n",
    "teams_gp['sim_differential'] = teams_gp.apply(lambda x: unravel(x.sim_differential), axis=1)\n",
    "teams_gp['win_loss'] = teams_gp.apply(lambda x: win_loss(x.sim_differential), axis=1)\n",
    "teams_gp['w_l_ratio'] = teams_gp.apply(lambda x: win_loss_ratio(x.win_loss), axis=1)"
   ]
  },
  {
   "cell_type": "code",
   "execution_count": 1,
   "metadata": {},
   "outputs": [
    {
     "ename": "NameError",
     "evalue": "name 'teams_gp' is not defined",
     "output_type": "error",
     "traceback": [
      "\u001b[0;31m---------------------------------------------------------------------------\u001b[0m",
      "\u001b[0;31mNameError\u001b[0m                                 Traceback (most recent call last)",
      "\u001b[1;32m/Users/jim/dev/sb/create_sim.ipynb Cell 7\u001b[0m line \u001b[0;36m1\n\u001b[0;32m----> <a href='vscode-notebook-cell:/Users/jim/dev/sb/create_sim.ipynb#W6sZmlsZQ%3D%3D?line=0'>1</a>\u001b[0m teams_gp\u001b[39m.\u001b[39mloc[(teams_gp\u001b[39m.\u001b[39mTm \u001b[39m!=\u001b[39m teams_gp\u001b[39m.\u001b[39mOpp):]\n",
      "\u001b[0;31mNameError\u001b[0m: name 'teams_gp' is not defined"
     ]
    }
   ],
   "source": [
    "teams_gp.loc[(teams_gp.Tm != teams_gp.Opp):]"
   ]
  }
 ],
 "metadata": {
  "kernelspec": {
   "display_name": "sb",
   "language": "python",
   "name": "sb"
  },
  "language_info": {
   "codemirror_mode": {
    "name": "ipython",
    "version": 3
   },
   "file_extension": ".py",
   "mimetype": "text/x-python",
   "name": "python",
   "nbconvert_exporter": "python",
   "pygments_lexer": "ipython3",
   "version": "3.9.18"
  }
 },
 "nbformat": 4,
 "nbformat_minor": 2
}
