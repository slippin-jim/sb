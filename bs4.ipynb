{
 "cells": [
  {
   "cell_type": "code",
   "execution_count": 23,
   "metadata": {},
   "outputs": [],
   "source": [
    "import pandas as pd\n",
    "import numpy as np\n",
    "from scipy import stats as sci\n",
    "import random as rand\n",
    "import os\n",
    "import re\n",
    "import requests\n",
    "from bs4 import BeautifulSoup\n",
    "import statsapi"
   ]
  },
  {
   "cell_type": "code",
   "execution_count": 22,
   "metadata": {},
   "outputs": [
    {
     "name": "stdout",
     "output_type": "stream",
     "text": [
      "None\n"
     ]
    }
   ],
   "source": [
    "# url = 'https://www.baseball-reference.com/teams/TOR/2022-schedule-scores.shtml'\n",
    "# page = requests.get(url)\n",
    "# soup = BeautifulSoup(page.text,\"lxml\")\n",
    "\n",
    "url = \"https://www.baseball-reference.com/teams/TOR/2022-schedule-scores.shtml\"\n",
    "soup = BeautifulSoup(requests.get(url).content, \"html.parser\")\n",
    "print(soup.pre)"
   ]
  },
  {
   "cell_type": "code",
   "execution_count": 26,
   "metadata": {},
   "outputs": [
    {
     "ename": "FeatureNotFound",
     "evalue": "Couldn't find a tree builder with the features you requested: lxml. Do you need to install a parser library?",
     "output_type": "error",
     "traceback": [
      "\u001b[0;31m---------------------------------------------------------------------------\u001b[0m",
      "\u001b[0;31mFeatureNotFound\u001b[0m                           Traceback (most recent call last)",
      "\u001b[1;32m/Users/jim/dev/sb/bs4.ipynb Cell 3\u001b[0m line \u001b[0;36m4\n\u001b[1;32m      <a href='vscode-notebook-cell:/Users/jim/dev/sb/bs4.ipynb#W2sZmlsZQ%3D%3D?line=1'>2</a>\u001b[0m br \u001b[39m=\u001b[39m baseball_reference\u001b[39m.\u001b[39mTeamScraper()\n\u001b[1;32m      <a href='vscode-notebook-cell:/Users/jim/dev/sb/bs4.ipynb#W2sZmlsZQ%3D%3D?line=2'>3</a>\u001b[0m br\u001b[39m.\u001b[39mset_season(\u001b[39m2022\u001b[39m)\n\u001b[0;32m----> <a href='vscode-notebook-cell:/Users/jim/dev/sb/bs4.ipynb#W2sZmlsZQ%3D%3D?line=3'>4</a>\u001b[0m data \u001b[39m=\u001b[39m br\u001b[39m.\u001b[39;49mscrape(\u001b[39m'\u001b[39;49m\u001b[39mNYY\u001b[39;49m\u001b[39m'\u001b[39;49m)\n\u001b[1;32m      <a href='vscode-notebook-cell:/Users/jim/dev/sb/bs4.ipynb#W2sZmlsZQ%3D%3D?line=4'>5</a>\u001b[0m data\u001b[39m.\u001b[39mhead()\n",
      "File \u001b[0;32m~/.pyenv/versions/3.11.3/envs/sb/lib/python3.11/site-packages/baseball_scraper/baseball_reference.py:58\u001b[0m, in \u001b[0;36mTeamScraper.scrape\u001b[0;34m(self, team)\u001b[0m\n\u001b[1;32m     56\u001b[0m \u001b[39mself\u001b[39m\u001b[39m.\u001b[39m_validate_date_range(\u001b[39mself\u001b[39m\u001b[39m.\u001b[39mstart_date, \u001b[39mself\u001b[39m\u001b[39m.\u001b[39mend_date)\n\u001b[1;32m     57\u001b[0m \u001b[39mself\u001b[39m\u001b[39m.\u001b[39m_validate_team()\n\u001b[0;32m---> 58\u001b[0m \u001b[39mself\u001b[39;49m\u001b[39m.\u001b[39;49m_cache_source()\n\u001b[1;32m     59\u001b[0m df \u001b[39m=\u001b[39m \u001b[39mself\u001b[39m\u001b[39m.\u001b[39mseason_cache[\u001b[39mself\u001b[39m\u001b[39m.\u001b[39mteam][\u001b[39mself\u001b[39m\u001b[39m.\u001b[39mstart_date\u001b[39m.\u001b[39myear]\n\u001b[1;32m     60\u001b[0m \u001b[39mreturn\u001b[39;00m \u001b[39mself\u001b[39m\u001b[39m.\u001b[39m_apply_filters(df)\n",
      "File \u001b[0;32m~/.pyenv/versions/3.11.3/envs/sb/lib/python3.11/site-packages/baseball_scraper/baseball_reference.py:101\u001b[0m, in \u001b[0;36mTeamScraper._cache_source\u001b[0;34m(self)\u001b[0m\n\u001b[1;32m     97\u001b[0m \u001b[39mif\u001b[39;00m \u001b[39mself\u001b[39m\u001b[39m.\u001b[39mteam \u001b[39mnot\u001b[39;00m \u001b[39min\u001b[39;00m \u001b[39mself\u001b[39m\u001b[39m.\u001b[39mseason_cache \u001b[39mor\u001b[39;00m \\\n\u001b[1;32m     98\u001b[0m         yr \u001b[39mnot\u001b[39;00m \u001b[39min\u001b[39;00m \u001b[39mself\u001b[39m\u001b[39m.\u001b[39mseason_cache[\u001b[39mself\u001b[39m\u001b[39m.\u001b[39mteam]:\n\u001b[1;32m     99\u001b[0m     \u001b[39mif\u001b[39;00m \u001b[39mself\u001b[39m\u001b[39m.\u001b[39mteam \u001b[39mnot\u001b[39;00m \u001b[39min\u001b[39;00m \u001b[39mself\u001b[39m\u001b[39m.\u001b[39mseason_raw_cache \u001b[39mor\u001b[39;00m \\\n\u001b[1;32m    100\u001b[0m             yr \u001b[39mnot\u001b[39;00m \u001b[39min\u001b[39;00m \u001b[39mself\u001b[39m\u001b[39m.\u001b[39mseason_raw_cache[\u001b[39mself\u001b[39m\u001b[39m.\u001b[39mteam]:\n\u001b[0;32m--> 101\u001b[0m         \u001b[39mself\u001b[39;49m\u001b[39m.\u001b[39;49m_soup()\n\u001b[1;32m    102\u001b[0m     soup \u001b[39m=\u001b[39m \u001b[39mself\u001b[39m\u001b[39m.\u001b[39mseason_raw_cache[\u001b[39mself\u001b[39m\u001b[39m.\u001b[39mteam][yr]\n\u001b[1;32m    103\u001b[0m     \u001b[39mif\u001b[39;00m \u001b[39mself\u001b[39m\u001b[39m.\u001b[39mteam \u001b[39mnot\u001b[39;00m \u001b[39min\u001b[39;00m \u001b[39mself\u001b[39m\u001b[39m.\u001b[39mseason_cache:\n",
      "File \u001b[0;32m~/.pyenv/versions/3.11.3/envs/sb/lib/python3.11/site-packages/baseball_scraper/baseball_reference.py:112\u001b[0m, in \u001b[0;36mTeamScraper._soup\u001b[0;34m(self)\u001b[0m\n\u001b[1;32m    109\u001b[0m \u001b[39mif\u001b[39;00m \u001b[39mself\u001b[39m\u001b[39m.\u001b[39mteam \u001b[39mnot\u001b[39;00m \u001b[39min\u001b[39;00m \u001b[39mself\u001b[39m\u001b[39m.\u001b[39mseason_raw_cache:\n\u001b[1;32m    110\u001b[0m     \u001b[39mself\u001b[39m\u001b[39m.\u001b[39mseason_raw_cache[\u001b[39mself\u001b[39m\u001b[39m.\u001b[39mteam] \u001b[39m=\u001b[39m {}\n\u001b[1;32m    111\u001b[0m \u001b[39mself\u001b[39m\u001b[39m.\u001b[39mseason_raw_cache[\u001b[39mself\u001b[39m\u001b[39m.\u001b[39mteam][\u001b[39mself\u001b[39m\u001b[39m.\u001b[39mstart_date\u001b[39m.\u001b[39myear] \u001b[39m=\u001b[39m \\\n\u001b[0;32m--> 112\u001b[0m     BeautifulSoup(s, \u001b[39m\"\u001b[39;49m\u001b[39mlxml\u001b[39;49m\u001b[39m\"\u001b[39;49m)\n",
      "File \u001b[0;32m~/.pyenv/versions/3.11.3/envs/sb/lib/python3.11/site-packages/bs4/__init__.py:250\u001b[0m, in \u001b[0;36mBeautifulSoup.__init__\u001b[0;34m(self, markup, features, builder, parse_only, from_encoding, exclude_encodings, element_classes, **kwargs)\u001b[0m\n\u001b[1;32m    248\u001b[0m     builder_class \u001b[39m=\u001b[39m builder_registry\u001b[39m.\u001b[39mlookup(\u001b[39m*\u001b[39mfeatures)\n\u001b[1;32m    249\u001b[0m     \u001b[39mif\u001b[39;00m builder_class \u001b[39mis\u001b[39;00m \u001b[39mNone\u001b[39;00m:\n\u001b[0;32m--> 250\u001b[0m         \u001b[39mraise\u001b[39;00m FeatureNotFound(\n\u001b[1;32m    251\u001b[0m             \u001b[39m\"\u001b[39m\u001b[39mCouldn\u001b[39m\u001b[39m'\u001b[39m\u001b[39mt find a tree builder with the features you \u001b[39m\u001b[39m\"\u001b[39m\n\u001b[1;32m    252\u001b[0m             \u001b[39m\"\u001b[39m\u001b[39mrequested: \u001b[39m\u001b[39m%s\u001b[39;00m\u001b[39m. Do you need to install a parser library?\u001b[39m\u001b[39m\"\u001b[39m\n\u001b[1;32m    253\u001b[0m             \u001b[39m%\u001b[39m \u001b[39m\"\u001b[39m\u001b[39m,\u001b[39m\u001b[39m\"\u001b[39m\u001b[39m.\u001b[39mjoin(features))\n\u001b[1;32m    255\u001b[0m \u001b[39m# At this point either we have a TreeBuilder instance in\u001b[39;00m\n\u001b[1;32m    256\u001b[0m \u001b[39m# builder, or we have a builder_class that we can instantiate\u001b[39;00m\n\u001b[1;32m    257\u001b[0m \u001b[39m# with the remaining **kwargs.\u001b[39;00m\n\u001b[1;32m    258\u001b[0m \u001b[39mif\u001b[39;00m builder \u001b[39mis\u001b[39;00m \u001b[39mNone\u001b[39;00m:\n",
      "\u001b[0;31mFeatureNotFound\u001b[0m: Couldn't find a tree builder with the features you requested: lxml. Do you need to install a parser library?"
     ]
    }
   ],
   "source": [
    "from baseball_scraper import baseball_reference\n",
    "br = baseball_reference.TeamScraper()\n",
    "br.set_season(2022)\n",
    "data = br.scrape('NYY')\n",
    "data.head()"
   ]
  },
  {
   "cell_type": "code",
   "execution_count": null,
   "metadata": {},
   "outputs": [],
   "source": []
  }
 ],
 "metadata": {
  "kernelspec": {
   "display_name": "sb",
   "language": "python",
   "name": "sb"
  },
  "language_info": {
   "codemirror_mode": {
    "name": "ipython",
    "version": 3
   },
   "file_extension": ".py",
   "mimetype": "text/x-python",
   "name": "python",
   "nbconvert_exporter": "python",
   "pygments_lexer": "ipython3",
   "version": "3.11.3"
  }
 },
 "nbformat": 4,
 "nbformat_minor": 2
}
